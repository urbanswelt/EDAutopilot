{
 "cells": [
  {
   "cell_type": "markdown",
   "metadata": {
    "toc": true
   },
   "source": [
    "<h1>Elite Dangerous Autopilot v2<span class=\"tocSkip\"></span></h1>\n",
    "<div class=\"toc\"><ul class=\"toc-item\"><li><span><a href=\"#References\" data-toc-modified-id=\"References-1\"><span class=\"toc-item-num\">1&nbsp;&nbsp;</span>References</a></span></li><li><span><a href=\"#Imports\" data-toc-modified-id=\"Imports-2\"><span class=\"toc-item-num\">2&nbsp;&nbsp;</span>Imports</a></span></li><li><span><a href=\"#Logging\" data-toc-modified-id=\"Logging-3\"><span class=\"toc-item-num\">3&nbsp;&nbsp;</span>Logging</a></span></li><li><span><a href=\"#Constants\" data-toc-modified-id=\"Constants-4\"><span class=\"toc-item-num\">4&nbsp;&nbsp;</span>Constants</a></span></li><li><span><a href=\"#Read-ED-logs\" data-toc-modified-id=\"Read-ED-logs-5\"><span class=\"toc-item-num\">5&nbsp;&nbsp;</span>Read ED logs</a></span><ul class=\"toc-item\"><li><span><a href=\"#Get-latest-log-file\" data-toc-modified-id=\"Get-latest-log-file-5.1\"><span class=\"toc-item-num\">5.1&nbsp;&nbsp;</span>Get latest log file</a></span></li><li><span><a href=\"#Extract-ship-info-from-log\" data-toc-modified-id=\"Extract-ship-info-from-log-5.2\"><span class=\"toc-item-num\">5.2&nbsp;&nbsp;</span>Extract ship info from log</a></span></li></ul></li><li><span><a href=\"#Control-ED-with-direct-input\" data-toc-modified-id=\"Control-ED-with-direct-input-6\"><span class=\"toc-item-num\">6&nbsp;&nbsp;</span>Control ED with direct input</a></span><ul class=\"toc-item\"><li><span><a href=\"#Get-latest-keybinds-file\" data-toc-modified-id=\"Get-latest-keybinds-file-6.1\"><span class=\"toc-item-num\">6.1&nbsp;&nbsp;</span>Get latest keybinds file</a></span></li><li><span><a href=\"#Extract-necessary-keys\" data-toc-modified-id=\"Extract-necessary-keys-6.2\"><span class=\"toc-item-num\">6.2&nbsp;&nbsp;</span>Extract necessary keys</a></span></li></ul></li><li><span><a href=\"#Direct-input-function\" data-toc-modified-id=\"Direct-input-function-7\"><span class=\"toc-item-num\">7&nbsp;&nbsp;</span>Direct input function</a></span><ul class=\"toc-item\"><li><span><a href=\"#Send-input\" data-toc-modified-id=\"Send-input-7.1\"><span class=\"toc-item-num\">7.1&nbsp;&nbsp;</span>Send input</a></span></li><li><span><a href=\"#Clear-input\" data-toc-modified-id=\"Clear-input-7.2\"><span class=\"toc-item-num\">7.2&nbsp;&nbsp;</span>Clear input</a></span></li></ul></li><li><span><a href=\"#Autopilot-UI\" data-toc-modified-id=\"Autopilot-UI-8\"><span class=\"toc-item-num\">8&nbsp;&nbsp;</span>Autopilot UI</a></span><ul class=\"toc-item\"><li><span><a href=\"#Tkinter-test\" data-toc-modified-id=\"Tkinter-test-8.1\"><span class=\"toc-item-num\">8.1&nbsp;&nbsp;</span>Tkinter test</a></span></li></ul></li><li><span><a href=\"#OpenCV\" data-toc-modified-id=\"OpenCV-9\"><span class=\"toc-item-num\">9&nbsp;&nbsp;</span>OpenCV</a></span><ul class=\"toc-item\"><li><span><a href=\"#Get-screen\" data-toc-modified-id=\"Get-screen-9.1\"><span class=\"toc-item-num\">9.1&nbsp;&nbsp;</span>Get screen</a></span></li><li><span><a href=\"#HSV-slider-tool\" data-toc-modified-id=\"HSV-slider-tool-9.2\"><span class=\"toc-item-num\">9.2&nbsp;&nbsp;</span>HSV slider tool</a></span></li><li><span><a href=\"#Equalization\" data-toc-modified-id=\"Equalization-9.3\"><span class=\"toc-item-num\">9.3&nbsp;&nbsp;</span>Equalization</a></span></li><li><span><a href=\"#Filter-bright\" data-toc-modified-id=\"Filter-bright-9.4\"><span class=\"toc-item-num\">9.4&nbsp;&nbsp;</span>Filter bright</a></span></li><li><span><a href=\"#Filter-sun\" data-toc-modified-id=\"Filter-sun-9.5\"><span class=\"toc-item-num\">9.5&nbsp;&nbsp;</span>Filter sun</a></span></li><li><span><a href=\"#Filter-orange\" data-toc-modified-id=\"Filter-orange-9.6\"><span class=\"toc-item-num\">9.6&nbsp;&nbsp;</span>Filter orange</a></span></li><li><span><a href=\"#Filter-orange2\" data-toc-modified-id=\"Filter-orange2-9.7\"><span class=\"toc-item-num\">9.7&nbsp;&nbsp;</span>Filter orange2</a></span></li><li><span><a href=\"#Filter-blue\" data-toc-modified-id=\"Filter-blue-9.8\"><span class=\"toc-item-num\">9.8&nbsp;&nbsp;</span>Filter blue</a></span></li><li><span><a href=\"#Get-sun\" data-toc-modified-id=\"Get-sun-9.9\"><span class=\"toc-item-num\">9.9&nbsp;&nbsp;</span>Get sun</a></span></li><li><span><a href=\"#Get-compass-image\" data-toc-modified-id=\"Get-compass-image-9.10\"><span class=\"toc-item-num\">9.10&nbsp;&nbsp;</span>Get compass image</a></span></li><li><span><a href=\"#Get-navpoint-offset\" data-toc-modified-id=\"Get-navpoint-offset-9.11\"><span class=\"toc-item-num\">9.11&nbsp;&nbsp;</span>Get navpoint offset</a></span></li><li><span><a href=\"#Get-destination-offset\" data-toc-modified-id=\"Get-destination-offset-9.12\"><span class=\"toc-item-num\">9.12&nbsp;&nbsp;</span>Get destination offset</a></span></li></ul></li><li><span><a href=\"#Autopilot-routines\" data-toc-modified-id=\"Autopilot-routines-10\"><span class=\"toc-item-num\">10&nbsp;&nbsp;</span>Autopilot routines</a></span><ul class=\"toc-item\"><li><span><a href=\"#Undock\" data-toc-modified-id=\"Undock-10.1\"><span class=\"toc-item-num\">10.1&nbsp;&nbsp;</span>Undock</a></span></li><li><span><a href=\"#Dock\" data-toc-modified-id=\"Dock-10.2\"><span class=\"toc-item-num\">10.2&nbsp;&nbsp;</span>Dock</a></span></li><li><span><a href=\"#Align\" data-toc-modified-id=\"Align-10.3\"><span class=\"toc-item-num\">10.3&nbsp;&nbsp;</span>Align</a></span></li><li><span><a href=\"#Jump\" data-toc-modified-id=\"Jump-10.4\"><span class=\"toc-item-num\">10.4&nbsp;&nbsp;</span>Jump</a></span></li><li><span><a href=\"#Refuel\" data-toc-modified-id=\"Refuel-10.5\"><span class=\"toc-item-num\">10.5&nbsp;&nbsp;</span>Refuel</a></span></li><li><span><a href=\"#Discovery-scanner\" data-toc-modified-id=\"Discovery-scanner-10.6\"><span class=\"toc-item-num\">10.6&nbsp;&nbsp;</span>Discovery scanner</a></span></li><li><span><a href=\"#Position\" data-toc-modified-id=\"Position-10.7\"><span class=\"toc-item-num\">10.7&nbsp;&nbsp;</span>Position</a></span></li></ul></li><li><span><a href=\"#Autopilot-main\" data-toc-modified-id=\"Autopilot-main-11\"><span class=\"toc-item-num\">11&nbsp;&nbsp;</span>Autopilot main</a></span><ul class=\"toc-item\"><li><span><a href=\"#status-reference\" data-toc-modified-id=\"status-reference-11.1\"><span class=\"toc-item-num\">11.1&nbsp;&nbsp;</span>status reference</a></span></li></ul></li></ul></div>"
   ]
  },
  {
   "cell_type": "markdown",
   "metadata": {},
   "source": [
    "## References"
   ]
  },
  {
   "cell_type": "markdown",
   "metadata": {},
   "source": [
    "Useful docs / articles / etc\n",
    "  \n",
    "  1 - [A Python wrapper around AHK](https://pypi.org/project/ahk/)\n",
    "\n",
    "  2 - [OpenCV on Wheels](https://pypi.org/project/opencv-python/)\n",
    "\n",
    "  3 - [Autopilot for Elite Dangerous using OpenCV and thoughts on CV enabled bots in visual-to-keyboard loop](https://networkgeekstuff.com/projects/autopilot-for-elite-dangerous-using-opencv-and-thoughts-on-cv-enabled-bots-in-visual-to-keyboard-loop/)\n",
    "  \n",
    "  4 - [Using PyInstaller to Easily Distribute Python Applications](https://realpython.com/pyinstaller-python/)\n",
    "  \n",
    "  5 - [Direct Input to a Game - Python Plays GTA V](https://pythonprogramming.net/direct-input-game-python-plays-gta-v/)\n",
    "  \n",
    "  6 - [Cross-platform GUI automation for human beings](https://pyautogui.readthedocs.io/en/latest/index.html)"
   ]
  },
  {
   "cell_type": "markdown",
   "metadata": {},
   "source": [
    "## Imports"
   ]
  },
  {
   "cell_type": "code",
   "execution_count": 181,
   "metadata": {},
   "outputs": [],
   "source": [
    "import sys\n",
    "import datetime\n",
    "from os import environ, listdir\n",
    "from os.path import join, isfile, getmtime, abspath\n",
    "from json import loads\n",
    "from math import degrees, atan\n",
    "from random import random\n",
    "from time import sleep\n",
    "from numpy import array, sum, where\n",
    "from PIL import ImageGrab\n",
    "from datetime import datetime\n",
    "from xml.etree.ElementTree import parse\n",
    "import cv2 # see reference 2\n",
    "from src.directinput import * # see reference 5\n",
    "from pyautogui import size# see reference 6\n",
    "import logging\n",
    "import colorlog"
   ]
  },
  {
   "cell_type": "code",
   "execution_count": 182,
   "metadata": {},
   "outputs": [],
   "source": [
    "def resource_path(relative_path):\n",
    "    \"\"\" Get absolute path to resource, works for dev and for PyInstaller \"\"\"\n",
    "    try:\n",
    "        # PyInstaller creates a temp folder and stores path in _MEIPASS\n",
    "        base_path = sys._MEIPASS\n",
    "    except Exception:\n",
    "        base_path = abspath(\".\")\n",
    "\n",
    "    return join(base_path, relative_path)"
   ]
  },
  {
   "cell_type": "markdown",
   "metadata": {},
   "source": [
    "## Logging"
   ]
  },
  {
   "cell_type": "code",
   "execution_count": 183,
   "metadata": {},
   "outputs": [
    {
     "name": "stderr",
     "output_type": "stream",
     "text": [
      "INFO     This is an INFO message. These information is usually used for conveying information\n",
      "INFO     This is an INFO message. These information is usually used for conveying information\n",
      "INFO     This is an INFO message. These information is usually used for conveying information\n",
      "INFO     This is an INFO message. These information is usually used for conveying information\n",
      "INFO     This is an INFO message. These information is usually used for conveying information\n",
      "WARNING  some warning message. These information is usually used for warning\n",
      "WARNING  some warning message. These information is usually used for warning\n",
      "WARNING  some warning message. These information is usually used for warning\n",
      "WARNING  some warning message. These information is usually used for warning\n",
      "WARNING  some warning message. These information is usually used for warning\n",
      "ERROR    some error message. These information is usually used for errors and should not happen\n",
      "ERROR    some error message. These information is usually used for errors and should not happen\n",
      "ERROR    some error message. These information is usually used for errors and should not happen\n",
      "ERROR    some error message. These information is usually used for errors and should not happen\n",
      "ERROR    some error message. These information is usually used for errors and should not happen\n",
      "CRITICAL some critical message. These information is usually used for critical error, and will usually result in an exception.\n",
      "CRITICAL some critical message. These information is usually used for critical error, and will usually result in an exception.\n",
      "CRITICAL some critical message. These information is usually used for critical error, and will usually result in an exception.\n",
      "CRITICAL some critical message. These information is usually used for critical error, and will usually result in an exception.\n",
      "CRITICAL some critical message. These information is usually used for critical error, and will usually result in an exception.\n"
     ]
    }
   ],
   "source": [
    "logging.basicConfig(filename='autopilot.log', level=logging.DEBUG)\n",
    "logger = colorlog.getLogger()\n",
    "logger.setLevel(logging.DEBUG)\n",
    "handler = logging.StreamHandler()\n",
    "handler.setLevel(logging.INFO)\n",
    "handler.setFormatter(\n",
    "    colorlog.ColoredFormatter('%(log_color)s%(levelname)-8s%(reset)s %(white)s%(message)s', \n",
    "        log_colors={\n",
    "            'DEBUG':    'fg_bold_cyan',\n",
    "            'INFO':     'fg_bold_green',\n",
    "            'WARNING':  'bg_bold_yellow,fg_bold_blue',\n",
    "            'ERROR':    'bg_bold_red,fg_bold_white',\n",
    "            'CRITICAL': 'bg_bold_red,fg_bold_yellow',\n",
    "\t},secondary_log_colors={}\n",
    "\n",
    "    ))\n",
    "logger.addHandler(handler)\n",
    "\n",
    "logger.debug('This is a DEBUG message. These information is usually used for troubleshooting')\n",
    "logger.info('This is an INFO message. These information is usually used for conveying information')\n",
    "logger.warning('some warning message. These information is usually used for warning')\n",
    "logger.error('some error message. These information is usually used for errors and should not happen')\n",
    "logger.critical('some critical message. These information is usually used for critical error, and will usually result in an exception.')\n"
   ]
  },
  {
   "cell_type": "code",
   "execution_count": 184,
   "metadata": {},
   "outputs": [
    {
     "name": "stderr",
     "output_type": "stream",
     "text": [
      "INFO     \n",
      "--------------------------------------------------------------------------------------------------------------------------------------------------------------------------------------------------------\n",
      "---- AUTOPILOT DATA ------------------------------------------------------------------------------------------------------------------------------------------------------------------------------------\n",
      "--------------------------------------------------------------------------------------------------------------------------------------------------------------------------------------------------------\n",
      "INFO     \n",
      "--------------------------------------------------------------------------------------------------------------------------------------------------------------------------------------------------------\n",
      "---- AUTOPILOT DATA ------------------------------------------------------------------------------------------------------------------------------------------------------------------------------------\n",
      "--------------------------------------------------------------------------------------------------------------------------------------------------------------------------------------------------------\n",
      "INFO     \n",
      "--------------------------------------------------------------------------------------------------------------------------------------------------------------------------------------------------------\n",
      "---- AUTOPILOT DATA ------------------------------------------------------------------------------------------------------------------------------------------------------------------------------------\n",
      "--------------------------------------------------------------------------------------------------------------------------------------------------------------------------------------------------------\n",
      "INFO     \n",
      "--------------------------------------------------------------------------------------------------------------------------------------------------------------------------------------------------------\n",
      "---- AUTOPILOT DATA ------------------------------------------------------------------------------------------------------------------------------------------------------------------------------------\n",
      "--------------------------------------------------------------------------------------------------------------------------------------------------------------------------------------------------------\n",
      "INFO     \n",
      "--------------------------------------------------------------------------------------------------------------------------------------------------------------------------------------------------------\n",
      "---- AUTOPILOT DATA ------------------------------------------------------------------------------------------------------------------------------------------------------------------------------------\n",
      "--------------------------------------------------------------------------------------------------------------------------------------------------------------------------------------------------------\n"
     ]
    }
   ],
   "source": [
    "logging.info('\\n'+200*'-'+'\\n'+'---- AUTOPILOT DATA '+180*'-'+'\\n'+200*'-')"
   ]
  },
  {
   "cell_type": "markdown",
   "metadata": {},
   "source": [
    "## Constants"
   ]
  },
  {
   "cell_type": "code",
   "execution_count": 185,
   "metadata": {},
   "outputs": [
    {
     "name": "stderr",
     "output_type": "stream",
     "text": [
      "INFO     RELEASE=v19.05.15-alpha-18\n",
      "INFO     RELEASE=v19.05.15-alpha-18\n",
      "INFO     RELEASE=v19.05.15-alpha-18\n",
      "INFO     RELEASE=v19.05.15-alpha-18\n",
      "INFO     RELEASE=v19.05.15-alpha-18\n",
      "INFO     PATH_LOG_FILES=None\n",
      "INFO     PATH_LOG_FILES=None\n",
      "INFO     PATH_LOG_FILES=None\n",
      "INFO     PATH_LOG_FILES=None\n",
      "INFO     PATH_LOG_FILES=None\n",
      "INFO     PATH_KEYBINDINGS=None\n",
      "INFO     PATH_KEYBINDINGS=None\n",
      "INFO     PATH_KEYBINDINGS=None\n",
      "INFO     PATH_KEYBINDINGS=None\n",
      "INFO     PATH_KEYBINDINGS=None\n",
      "INFO     KEY_MOD_DELAY=0.01\n",
      "INFO     KEY_MOD_DELAY=0.01\n",
      "INFO     KEY_MOD_DELAY=0.01\n",
      "INFO     KEY_MOD_DELAY=0.01\n",
      "INFO     KEY_MOD_DELAY=0.01\n",
      "INFO     KEY_DEFAULT_DELAY=0.2\n",
      "INFO     KEY_DEFAULT_DELAY=0.2\n",
      "INFO     KEY_DEFAULT_DELAY=0.2\n",
      "INFO     KEY_DEFAULT_DELAY=0.2\n",
      "INFO     KEY_DEFAULT_DELAY=0.2\n",
      "INFO     KEY_REPEAT_DELAY=0.1\n",
      "INFO     KEY_REPEAT_DELAY=0.1\n",
      "INFO     KEY_REPEAT_DELAY=0.1\n",
      "INFO     KEY_REPEAT_DELAY=0.1\n",
      "INFO     KEY_REPEAT_DELAY=0.1\n",
      "INFO     FUNCTION_DEFAULT_DELAY=0.5\n",
      "INFO     FUNCTION_DEFAULT_DELAY=0.5\n",
      "INFO     FUNCTION_DEFAULT_DELAY=0.5\n",
      "INFO     FUNCTION_DEFAULT_DELAY=0.5\n",
      "INFO     FUNCTION_DEFAULT_DELAY=0.5\n",
      "INFO     SCREEN_WIDTH=2560\n",
      "INFO     SCREEN_WIDTH=2560\n",
      "INFO     SCREEN_WIDTH=2560\n",
      "INFO     SCREEN_WIDTH=2560\n",
      "INFO     SCREEN_WIDTH=2560\n",
      "INFO     SCREEN_HEIGHT=1080\n",
      "INFO     SCREEN_HEIGHT=1080\n",
      "INFO     SCREEN_HEIGHT=1080\n",
      "INFO     SCREEN_HEIGHT=1080\n",
      "INFO     SCREEN_HEIGHT=1080\n"
     ]
    }
   ],
   "source": [
    "RELEASE = 'v19.05.15-alpha-18'\n",
    "PATH_LOG_FILES = None\n",
    "PATH_KEYBINDINGS = None\n",
    "KEY_MOD_DELAY = 0.010\n",
    "KEY_DEFAULT_DELAY = 0.200\n",
    "KEY_REPEAT_DELAY = 0.100\n",
    "FUNCTION_DEFAULT_DELAY = 0.500\n",
    "SCREEN_WIDTH, SCREEN_HEIGHT = size()\n",
    "\n",
    "logging.info('RELEASE='+str(RELEASE))\n",
    "logging.info('PATH_LOG_FILES='+str(PATH_LOG_FILES))\n",
    "logging.info('PATH_KEYBINDINGS='+str(PATH_KEYBINDINGS))\n",
    "logging.info('KEY_MOD_DELAY='+str(KEY_MOD_DELAY))\n",
    "logging.info('KEY_DEFAULT_DELAY='+str(KEY_DEFAULT_DELAY))\n",
    "logging.info('KEY_REPEAT_DELAY='+str(KEY_REPEAT_DELAY))\n",
    "logging.info('FUNCTION_DEFAULT_DELAY='+str(FUNCTION_DEFAULT_DELAY))\n",
    "logging.info('SCREEN_WIDTH='+str(SCREEN_WIDTH))\n",
    "logging.info('SCREEN_HEIGHT='+str(SCREEN_HEIGHT))"
   ]
  },
  {
   "cell_type": "markdown",
   "metadata": {},
   "source": [
    "## Read ED logs"
   ]
  },
  {
   "cell_type": "markdown",
   "metadata": {},
   "source": [
    "### Get latest log file"
   ]
  },
  {
   "cell_type": "code",
   "execution_count": 186,
   "metadata": {},
   "outputs": [],
   "source": [
    "def get_latest_log(path_logs=None):\n",
    "    \"\"\"Returns the full path of the latest (most recent) elite log file (journal) from specified path\"\"\"\n",
    "    if not path_logs:\n",
    "        path_logs = environ['USERPROFILE'] + \"\\Saved Games\\Frontier Developments\\Elite Dangerous\"\n",
    "    list_of_logs = [join(path_logs, f) for f in listdir(path_logs) if isfile(join(path_logs, f)) and f.startswith('Journal.')]\n",
    "    if not list_of_logs:\n",
    "        return None\n",
    "    latest_log = max(list_of_logs, key=getmtime)\n",
    "    return latest_log"
   ]
  },
  {
   "cell_type": "code",
   "execution_count": 187,
   "metadata": {},
   "outputs": [
    {
     "name": "stderr",
     "output_type": "stream",
     "text": [
      "INFO     get_latest_log=C:\\Users\\SKai\\Saved Games\\Frontier Developments\\Elite Dangerous\\Journal.190515180539.01.log\n",
      "INFO     get_latest_log=C:\\Users\\SKai\\Saved Games\\Frontier Developments\\Elite Dangerous\\Journal.190515180539.01.log\n",
      "INFO     get_latest_log=C:\\Users\\SKai\\Saved Games\\Frontier Developments\\Elite Dangerous\\Journal.190515180539.01.log\n",
      "INFO     get_latest_log=C:\\Users\\SKai\\Saved Games\\Frontier Developments\\Elite Dangerous\\Journal.190515180539.01.log\n",
      "INFO     get_latest_log=C:\\Users\\SKai\\Saved Games\\Frontier Developments\\Elite Dangerous\\Journal.190515180539.01.log\n"
     ]
    }
   ],
   "source": [
    "logging.info('get_latest_log='+str(get_latest_log(PATH_LOG_FILES)))"
   ]
  },
  {
   "cell_type": "markdown",
   "metadata": {},
   "source": [
    "### Extract ship info from log"
   ]
  },
  {
   "cell_type": "code",
   "execution_count": 188,
   "metadata": {},
   "outputs": [],
   "source": [
    "def ship():\n",
    "    \"\"\"Returns a 'status' dict containing relevant game status information (state, fuel, ...)\"\"\"\n",
    "    latest_log = get_latest_log(PATH_LOG_FILES)\n",
    "    ship = {\n",
    "        'time': (datetime.now() - datetime.fromtimestamp(getmtime(latest_log))).seconds,\n",
    "        'status': None,\n",
    "        'type': None,\n",
    "        'location': None,\n",
    "        'star_class': None,\n",
    "        'target': None,\n",
    "        'fuel_capacity': None,\n",
    "        'fuel_level': None,\n",
    "        'fuel_percent': None,\n",
    "        'is_scooping': False,\n",
    "    }\n",
    "    # Read log line by line and parse data\n",
    "    with open(latest_log, encoding=\"utf-8\") as f:\n",
    "        for line in f:\n",
    "            log = loads(line)\n",
    "            \n",
    "            # parse data\n",
    "            try:\n",
    "                # parse ship status\n",
    "                log_event = log['event']\n",
    "                \n",
    "                if log_event == 'StartJump':\n",
    "                    ship['status'] = str('starting_'+log['JumpType']).lower()\n",
    "                    \n",
    "                elif log_event == 'SupercruiseEntry' or log_event == 'FSDJump':\n",
    "                    ship['status'] = 'in_supercruise'\n",
    "                    \n",
    "                elif log_event == 'SupercruiseExit' or log_event == 'DockingCancelled' \\\n",
    "                 or (log_event == 'Music' and ship['status'] == 'in_undocking') \\\n",
    "                 or (log_event == 'Location' and log['Docked'] == False):\n",
    "                    ship['status'] = 'in_space'\n",
    "                    \n",
    "                elif log_event == 'Undocked':\n",
    "#                     ship['status'] = 'starting_undocking'\n",
    "                    ship['status'] = 'in_space'\n",
    "                    \n",
    "                elif log_event == 'DockingRequested':\n",
    "                    ship['status'] = 'starting_docking'\n",
    "                    \n",
    "                elif log_event == \"Music\" and log['MusicTrack'] == \"DockingComputer\":\n",
    "                    if ship['status'] == 'starting_undocking':\n",
    "                        ship['status'] = 'in_undocking'\n",
    "                    elif ship['status'] == 'starting_docking':\n",
    "                        ship['status'] = 'in_docking'\n",
    "                \n",
    "                elif log_event == 'Docked':\n",
    "                    ship['status'] = 'in_station'\n",
    "                    \n",
    "                # parse ship type\n",
    "                if log_event == 'LoadGame' or log_event == 'Loadout':\n",
    "                    ship['type'] = log['Ship']\n",
    "                    \n",
    "                # parse fuel\n",
    "                if 'FuelLevel' in log and ship['type'] != 'TestBuggy':\n",
    "                    ship['fuel_level'] = log['FuelLevel']\n",
    "                if 'FuelCapacity' in log and ship['type'] != 'TestBuggy':\n",
    "                        try:\n",
    "                            ship['fuel_capacity'] = log['FuelCapacity']['Main']\n",
    "                        except:\n",
    "                            ship['fuel_capacity'] = log['FuelCapacity']\n",
    "                if log_event == 'FuelScoop' and 'Total' in log:\n",
    "                    ship['fuel_level'] = log['Total']\n",
    "                if ship['fuel_level'] and ship['fuel_capacity']:\n",
    "                    ship['fuel_percent'] = round((ship['fuel_level'] / ship['fuel_capacity'])*100)\n",
    "                else:\n",
    "                    ship['fuel_percent'] = 10\n",
    "                    \n",
    "                # parse scoop\n",
    "                if log_event == 'FuelScoop' and ship['time'] < 10 and ship['fuel_percent'] < 100:\n",
    "                    ship['is_scooping'] = True\n",
    "                else:\n",
    "                    ship['is_scooping'] = False\n",
    "                    \n",
    "                # parse location\n",
    "                if (log_event == 'Location' or log_event == 'FSDJump') and 'StarSystem' in log:\n",
    "                    ship['location'] = log['StarSystem']\n",
    "                if 'StarClass' in log:\n",
    "                    ship['star_class'] = log['StarClass']\n",
    "                    \n",
    "                # parse target\n",
    "                if log_event == 'FSDTarget':\n",
    "                    if log['Name'] == ship['location']:\n",
    "                        ship['target'] = None\n",
    "                    else:\n",
    "                        ship['target'] = log['Name']\n",
    "                elif log_event == 'FSDJump':\n",
    "                    if ship['location'] == ship['target']:\n",
    "                        ship['target'] = None\n",
    "                \n",
    "                    \n",
    "            # exceptions\n",
    "            except Exception as e:\n",
    "                logging.exception(\"Exception occurred\")\n",
    "                print(e)\n",
    "#     logging.debug('ship='+str(ship))\n",
    "    return ship"
   ]
  },
  {
   "cell_type": "code",
   "execution_count": 189,
   "metadata": {},
   "outputs": [],
   "source": [
    "logging.debug('ship='+str(ship()))"
   ]
  },
  {
   "cell_type": "markdown",
   "metadata": {},
   "source": [
    "## Control ED with direct input"
   ]
  },
  {
   "cell_type": "markdown",
   "metadata": {},
   "source": [
    "### Get latest keybinds file"
   ]
  },
  {
   "cell_type": "code",
   "execution_count": 190,
   "metadata": {},
   "outputs": [],
   "source": [
    "def get_latest_keybinds(path_bindings=None):\n",
    "    if not path_bindings:\n",
    "        path_bindings = environ['LOCALAPPDATA'] + \"\\Frontier Developments\\Elite Dangerous\\Options\\Bindings\"\n",
    "    list_of_bindings = [join(path_bindings, f) for f in listdir(path_bindings) if isfile(join(path_bindings, f))]\n",
    "    if not list_of_bindings:\n",
    "        return None\n",
    "    latest_bindings = max(list_of_bindings, key=getmtime)\n",
    "    return latest_bindings\n"
   ]
  },
  {
   "cell_type": "code",
   "execution_count": 191,
   "metadata": {},
   "outputs": [
    {
     "name": "stderr",
     "output_type": "stream",
     "text": [
      "INFO     get_latest_keybinds=C:\\Users\\SKai\\AppData\\Local\\Frontier Developments\\Elite Dangerous\\Options\\Bindings\\Custom.3.0.binds\n",
      "INFO     get_latest_keybinds=C:\\Users\\SKai\\AppData\\Local\\Frontier Developments\\Elite Dangerous\\Options\\Bindings\\Custom.3.0.binds\n",
      "INFO     get_latest_keybinds=C:\\Users\\SKai\\AppData\\Local\\Frontier Developments\\Elite Dangerous\\Options\\Bindings\\Custom.3.0.binds\n",
      "INFO     get_latest_keybinds=C:\\Users\\SKai\\AppData\\Local\\Frontier Developments\\Elite Dangerous\\Options\\Bindings\\Custom.3.0.binds\n",
      "INFO     get_latest_keybinds=C:\\Users\\SKai\\AppData\\Local\\Frontier Developments\\Elite Dangerous\\Options\\Bindings\\Custom.3.0.binds\n"
     ]
    }
   ],
   "source": [
    "logging.info(\"get_latest_keybinds=\"+str(get_latest_keybinds()))"
   ]
  },
  {
   "cell_type": "markdown",
   "metadata": {},
   "source": [
    "### Extract necessary keys"
   ]
  },
  {
   "cell_type": "code",
   "execution_count": 192,
   "metadata": {},
   "outputs": [],
   "source": [
    "keys_to_obtain = [\n",
    "        'YawLeftButton',\n",
    "        'YawRightButton',\n",
    "        'RollLeftButton',\n",
    "        'RollRightButton',\n",
    "        'PitchUpButton',\n",
    "        'PitchDownButton',\n",
    "        'SetSpeedZero',\n",
    "        'SetSpeed100',\n",
    "        'HyperSuperCombination',\n",
    "        'UIFocus',\n",
    "        'UI_Up',\n",
    "        'UI_Down',\n",
    "        'UI_Left',\n",
    "        'UI_Right',\n",
    "        'UI_Select',\n",
    "        'UI_Back',\n",
    "        'CycleNextPanel',\n",
    "        'HeadLookReset',\n",
    "        'PrimaryFire',\n",
    "        'SecondaryFire'\n",
    "    ]\n",
    "\n",
    "def get_bindings(keys_to_obtain=keys_to_obtain):\n",
    "    \"\"\"Returns a dict struct with the direct input equivalent of the necessary elite keybindings\"\"\"\n",
    "    direct_input_keys = {}\n",
    "    convert_to_direct_keys = {\n",
    "        'Key_LeftShift':'LShift',\n",
    "        'Key_RightShift':'RShift',\n",
    "        'Key_LeftAlt':'LAlt',\n",
    "        'Key_RightAlt':'RAlt',\n",
    "        'Key_LeftControl':'LControl',\n",
    "        'Key_RightControl':'RControl',\n",
    "        'Key_LeftBracket':'LBracket',\n",
    "        'Key_RightBracket':'RBracket'\n",
    "    }\n",
    "    \n",
    "    latest_bindings = get_latest_keybinds()\n",
    "    bindings_tree = parse(latest_bindings)\n",
    "    bindings_root = bindings_tree.getroot()\n",
    "    \n",
    "    for item in bindings_root:\n",
    "        if item.tag in keys_to_obtain:\n",
    "            key = None\n",
    "            mod = None      \n",
    "            # Check primary\n",
    "            if item[0].attrib['Device'].strip() == \"Keyboard\":\n",
    "                key = item[0].attrib['Key']\n",
    "                if len(item[0]) > 0:\n",
    "                    mod = item[0][0].attrib['Key']\n",
    "            # Check secondary (and prefer secondary)\n",
    "            if item[1].attrib['Device'].strip() == \"Keyboard\":\n",
    "                key = item[1].attrib['Key']\n",
    "                if len(item[1]) > 0:\n",
    "                    mod = item[1][0].attrib['Key']\n",
    "            # Adequate key to SCANCODE dict standard\n",
    "            if key in convert_to_direct_keys:\n",
    "                key = convert_to_direct_keys[key]\n",
    "            elif key is not None:\n",
    "                key = key[4:]\n",
    "            # Adequate mod to SCANCODE dict standard\n",
    "            if mod in convert_to_direct_keys:\n",
    "                mod = convert_to_direct_keys[mod]\n",
    "            elif mod is not None:\n",
    "                mod = mod[4:]\n",
    "            # Prepare final binding\n",
    "            binding = None\n",
    "            if key is not None:\n",
    "                binding = {}\n",
    "                binding['pre_key'] = 'DIK_'+key.upper()\n",
    "                binding['key'] = SCANCODE[binding['pre_key']]\n",
    "                if mod is not None:\n",
    "                    binding['pre_mod'] = 'DIK_'+mod.upper()\n",
    "                    binding['mod'] = SCANCODE[binding['pre_mod']]\n",
    "            if binding is not None:\n",
    "                direct_input_keys[item.tag] = binding\n",
    "#             else:\n",
    "#                 logging.warning(\"get_bindings_<\"+item.tag+\">= does not have a valid keyboard keybind.\")\n",
    "\n",
    "    if len(list(direct_input_keys.keys())) < 1:\n",
    "        return None\n",
    "    else:\n",
    "        return direct_input_keys"
   ]
  },
  {
   "cell_type": "code",
   "execution_count": 193,
   "metadata": {},
   "outputs": [
    {
     "name": "stderr",
     "output_type": "stream",
     "text": [
      "INFO     get_bindings_<YawLeftButton>={'pre_key': 'DIK_A', 'key': 30, 'pre_mod': 'DIK_LSHIFT', 'mod': 42}\n",
      "INFO     get_bindings_<YawLeftButton>={'pre_key': 'DIK_A', 'key': 30, 'pre_mod': 'DIK_LSHIFT', 'mod': 42}\n",
      "INFO     get_bindings_<YawLeftButton>={'pre_key': 'DIK_A', 'key': 30, 'pre_mod': 'DIK_LSHIFT', 'mod': 42}\n",
      "INFO     get_bindings_<YawLeftButton>={'pre_key': 'DIK_A', 'key': 30, 'pre_mod': 'DIK_LSHIFT', 'mod': 42}\n",
      "INFO     get_bindings_<YawLeftButton>={'pre_key': 'DIK_A', 'key': 30, 'pre_mod': 'DIK_LSHIFT', 'mod': 42}\n",
      "INFO     get_bindings_<YawRightButton>={'pre_key': 'DIK_D', 'key': 32, 'pre_mod': 'DIK_LSHIFT', 'mod': 42}\n",
      "INFO     get_bindings_<YawRightButton>={'pre_key': 'DIK_D', 'key': 32, 'pre_mod': 'DIK_LSHIFT', 'mod': 42}\n",
      "INFO     get_bindings_<YawRightButton>={'pre_key': 'DIK_D', 'key': 32, 'pre_mod': 'DIK_LSHIFT', 'mod': 42}\n",
      "INFO     get_bindings_<YawRightButton>={'pre_key': 'DIK_D', 'key': 32, 'pre_mod': 'DIK_LSHIFT', 'mod': 42}\n",
      "INFO     get_bindings_<YawRightButton>={'pre_key': 'DIK_D', 'key': 32, 'pre_mod': 'DIK_LSHIFT', 'mod': 42}\n",
      "INFO     get_bindings_<RollLeftButton>={'pre_key': 'DIK_A', 'key': 30}\n",
      "INFO     get_bindings_<RollLeftButton>={'pre_key': 'DIK_A', 'key': 30}\n",
      "INFO     get_bindings_<RollLeftButton>={'pre_key': 'DIK_A', 'key': 30}\n",
      "INFO     get_bindings_<RollLeftButton>={'pre_key': 'DIK_A', 'key': 30}\n",
      "INFO     get_bindings_<RollLeftButton>={'pre_key': 'DIK_A', 'key': 30}\n",
      "INFO     get_bindings_<RollRightButton>={'pre_key': 'DIK_D', 'key': 32}\n",
      "INFO     get_bindings_<RollRightButton>={'pre_key': 'DIK_D', 'key': 32}\n",
      "INFO     get_bindings_<RollRightButton>={'pre_key': 'DIK_D', 'key': 32}\n",
      "INFO     get_bindings_<RollRightButton>={'pre_key': 'DIK_D', 'key': 32}\n",
      "INFO     get_bindings_<RollRightButton>={'pre_key': 'DIK_D', 'key': 32}\n",
      "INFO     get_bindings_<PitchUpButton>={'pre_key': 'DIK_W', 'key': 17, 'pre_mod': 'DIK_LALT', 'mod': 56}\n",
      "INFO     get_bindings_<PitchUpButton>={'pre_key': 'DIK_W', 'key': 17, 'pre_mod': 'DIK_LALT', 'mod': 56}\n",
      "INFO     get_bindings_<PitchUpButton>={'pre_key': 'DIK_W', 'key': 17, 'pre_mod': 'DIK_LALT', 'mod': 56}\n",
      "INFO     get_bindings_<PitchUpButton>={'pre_key': 'DIK_W', 'key': 17, 'pre_mod': 'DIK_LALT', 'mod': 56}\n",
      "INFO     get_bindings_<PitchUpButton>={'pre_key': 'DIK_W', 'key': 17, 'pre_mod': 'DIK_LALT', 'mod': 56}\n",
      "INFO     get_bindings_<PitchDownButton>={'pre_key': 'DIK_S', 'key': 31, 'pre_mod': 'DIK_LALT', 'mod': 56}\n",
      "INFO     get_bindings_<PitchDownButton>={'pre_key': 'DIK_S', 'key': 31, 'pre_mod': 'DIK_LALT', 'mod': 56}\n",
      "INFO     get_bindings_<PitchDownButton>={'pre_key': 'DIK_S', 'key': 31, 'pre_mod': 'DIK_LALT', 'mod': 56}\n",
      "INFO     get_bindings_<PitchDownButton>={'pre_key': 'DIK_S', 'key': 31, 'pre_mod': 'DIK_LALT', 'mod': 56}\n",
      "INFO     get_bindings_<PitchDownButton>={'pre_key': 'DIK_S', 'key': 31, 'pre_mod': 'DIK_LALT', 'mod': 56}\n",
      "INFO     get_bindings_<SetSpeedZero>={'pre_key': 'DIK_SPACE', 'key': 57}\n",
      "INFO     get_bindings_<SetSpeedZero>={'pre_key': 'DIK_SPACE', 'key': 57}\n",
      "INFO     get_bindings_<SetSpeedZero>={'pre_key': 'DIK_SPACE', 'key': 57}\n",
      "INFO     get_bindings_<SetSpeedZero>={'pre_key': 'DIK_SPACE', 'key': 57}\n",
      "INFO     get_bindings_<SetSpeedZero>={'pre_key': 'DIK_SPACE', 'key': 57}\n",
      "INFO     get_bindings_<SetSpeed100>={'pre_key': 'DIK_F5', 'key': 63}\n",
      "INFO     get_bindings_<SetSpeed100>={'pre_key': 'DIK_F5', 'key': 63}\n",
      "INFO     get_bindings_<SetSpeed100>={'pre_key': 'DIK_F5', 'key': 63}\n",
      "INFO     get_bindings_<SetSpeed100>={'pre_key': 'DIK_F5', 'key': 63}\n",
      "INFO     get_bindings_<SetSpeed100>={'pre_key': 'DIK_F5', 'key': 63}\n",
      "INFO     get_bindings_<HyperSuperCombination>={'pre_key': 'DIK_F', 'key': 33}\n",
      "INFO     get_bindings_<HyperSuperCombination>={'pre_key': 'DIK_F', 'key': 33}\n",
      "INFO     get_bindings_<HyperSuperCombination>={'pre_key': 'DIK_F', 'key': 33}\n",
      "INFO     get_bindings_<HyperSuperCombination>={'pre_key': 'DIK_F', 'key': 33}\n",
      "INFO     get_bindings_<HyperSuperCombination>={'pre_key': 'DIK_F', 'key': 33}\n",
      "INFO     get_bindings_<UIFocus>={'pre_key': 'DIK_0', 'key': 11}\n",
      "INFO     get_bindings_<UIFocus>={'pre_key': 'DIK_0', 'key': 11}\n",
      "INFO     get_bindings_<UIFocus>={'pre_key': 'DIK_0', 'key': 11}\n",
      "INFO     get_bindings_<UIFocus>={'pre_key': 'DIK_0', 'key': 11}\n",
      "INFO     get_bindings_<UIFocus>={'pre_key': 'DIK_0', 'key': 11}\n",
      "INFO     get_bindings_<UI_Up>={'pre_key': 'DIK_UPARROW', 'key': 200}\n",
      "INFO     get_bindings_<UI_Up>={'pre_key': 'DIK_UPARROW', 'key': 200}\n",
      "INFO     get_bindings_<UI_Up>={'pre_key': 'DIK_UPARROW', 'key': 200}\n",
      "INFO     get_bindings_<UI_Up>={'pre_key': 'DIK_UPARROW', 'key': 200}\n",
      "INFO     get_bindings_<UI_Up>={'pre_key': 'DIK_UPARROW', 'key': 200}\n",
      "INFO     get_bindings_<UI_Down>={'pre_key': 'DIK_DOWNARROW', 'key': 208}\n",
      "INFO     get_bindings_<UI_Down>={'pre_key': 'DIK_DOWNARROW', 'key': 208}\n",
      "INFO     get_bindings_<UI_Down>={'pre_key': 'DIK_DOWNARROW', 'key': 208}\n",
      "INFO     get_bindings_<UI_Down>={'pre_key': 'DIK_DOWNARROW', 'key': 208}\n",
      "INFO     get_bindings_<UI_Down>={'pre_key': 'DIK_DOWNARROW', 'key': 208}\n",
      "INFO     get_bindings_<UI_Left>={'pre_key': 'DIK_LEFTARROW', 'key': 203}\n",
      "INFO     get_bindings_<UI_Left>={'pre_key': 'DIK_LEFTARROW', 'key': 203}\n",
      "INFO     get_bindings_<UI_Left>={'pre_key': 'DIK_LEFTARROW', 'key': 203}\n",
      "INFO     get_bindings_<UI_Left>={'pre_key': 'DIK_LEFTARROW', 'key': 203}\n",
      "INFO     get_bindings_<UI_Left>={'pre_key': 'DIK_LEFTARROW', 'key': 203}\n",
      "INFO     get_bindings_<UI_Right>={'pre_key': 'DIK_RIGHTARROW', 'key': 205}\n",
      "INFO     get_bindings_<UI_Right>={'pre_key': 'DIK_RIGHTARROW', 'key': 205}\n",
      "INFO     get_bindings_<UI_Right>={'pre_key': 'DIK_RIGHTARROW', 'key': 205}\n",
      "INFO     get_bindings_<UI_Right>={'pre_key': 'DIK_RIGHTARROW', 'key': 205}\n",
      "INFO     get_bindings_<UI_Right>={'pre_key': 'DIK_RIGHTARROW', 'key': 205}\n",
      "INFO     get_bindings_<UI_Select>={'pre_key': 'DIK_SPACE', 'key': 57}\n",
      "INFO     get_bindings_<UI_Select>={'pre_key': 'DIK_SPACE', 'key': 57}\n",
      "INFO     get_bindings_<UI_Select>={'pre_key': 'DIK_SPACE', 'key': 57}\n",
      "INFO     get_bindings_<UI_Select>={'pre_key': 'DIK_SPACE', 'key': 57}\n",
      "INFO     get_bindings_<UI_Select>={'pre_key': 'DIK_SPACE', 'key': 57}\n",
      "INFO     get_bindings_<UI_Back>={'pre_key': 'DIK_TAB', 'key': 15}\n",
      "INFO     get_bindings_<UI_Back>={'pre_key': 'DIK_TAB', 'key': 15}\n",
      "INFO     get_bindings_<UI_Back>={'pre_key': 'DIK_TAB', 'key': 15}\n",
      "INFO     get_bindings_<UI_Back>={'pre_key': 'DIK_TAB', 'key': 15}\n",
      "INFO     get_bindings_<UI_Back>={'pre_key': 'DIK_TAB', 'key': 15}\n",
      "INFO     get_bindings_<CycleNextPanel>={'pre_key': 'DIK_END', 'key': 207}\n",
      "INFO     get_bindings_<CycleNextPanel>={'pre_key': 'DIK_END', 'key': 207}\n",
      "INFO     get_bindings_<CycleNextPanel>={'pre_key': 'DIK_END', 'key': 207}\n",
      "INFO     get_bindings_<CycleNextPanel>={'pre_key': 'DIK_END', 'key': 207}\n",
      "INFO     get_bindings_<CycleNextPanel>={'pre_key': 'DIK_END', 'key': 207}\n",
      "INFO     get_bindings_<HeadLookReset>={'pre_key': 'DIK_V', 'key': 47}\n",
      "INFO     get_bindings_<HeadLookReset>={'pre_key': 'DIK_V', 'key': 47}\n",
      "INFO     get_bindings_<HeadLookReset>={'pre_key': 'DIK_V', 'key': 47}\n",
      "INFO     get_bindings_<HeadLookReset>={'pre_key': 'DIK_V', 'key': 47}\n",
      "INFO     get_bindings_<HeadLookReset>={'pre_key': 'DIK_V', 'key': 47}\n",
      "WARNING  GET_BINDINGS_<PRIMARYFIRE>= DOES NOT HAVE A VALID KEYBOARD KEYBIND.\n",
      "WARNING  GET_BINDINGS_<PRIMARYFIRE>= DOES NOT HAVE A VALID KEYBOARD KEYBIND.\n",
      "WARNING  GET_BINDINGS_<PRIMARYFIRE>= DOES NOT HAVE A VALID KEYBOARD KEYBIND.\n",
      "WARNING  GET_BINDINGS_<PRIMARYFIRE>= DOES NOT HAVE A VALID KEYBOARD KEYBIND.\n",
      "WARNING  GET_BINDINGS_<PRIMARYFIRE>= DOES NOT HAVE A VALID KEYBOARD KEYBIND.\n",
      "INFO     get_bindings_<SecondaryFire>={'pre_key': 'DIK_CAPSLOCK', 'key': 58, 'pre_mod': 'DIK_LALT', 'mod': 56}\n",
      "INFO     get_bindings_<SecondaryFire>={'pre_key': 'DIK_CAPSLOCK', 'key': 58, 'pre_mod': 'DIK_LALT', 'mod': 56}\n",
      "INFO     get_bindings_<SecondaryFire>={'pre_key': 'DIK_CAPSLOCK', 'key': 58, 'pre_mod': 'DIK_LALT', 'mod': 56}\n",
      "INFO     get_bindings_<SecondaryFire>={'pre_key': 'DIK_CAPSLOCK', 'key': 58, 'pre_mod': 'DIK_LALT', 'mod': 56}\n",
      "INFO     get_bindings_<SecondaryFire>={'pre_key': 'DIK_CAPSLOCK', 'key': 58, 'pre_mod': 'DIK_LALT', 'mod': 56}\n"
     ]
    }
   ],
   "source": [
    "keys = get_bindings()\n",
    "for key in keys_to_obtain:\n",
    "    try:\n",
    "        logging.info('get_bindings_<'+str(key)+'>='+str(keys[key]))\n",
    "    except Exception as e:\n",
    "        logging.warning(str(\"get_bindings_<\"+key+\">= does not have a valid keyboard keybind.\").upper())"
   ]
  },
  {
   "cell_type": "markdown",
   "metadata": {},
   "source": [
    "## Direct input function"
   ]
  },
  {
   "cell_type": "markdown",
   "metadata": {},
   "source": [
    "### Send input"
   ]
  },
  {
   "cell_type": "code",
   "execution_count": 194,
   "metadata": {},
   "outputs": [],
   "source": [
    "def send(key, hold=None, repeat=1, repeat_delay=None, state=None):\n",
    "    global KEY_MOD_DELAY, KEY_DEFAULT_DELAY, KEY_REPEAT_DELAY\n",
    "    \n",
    "    if key is None:\n",
    "        logging.warning('SEND=NONE !!!!!!!!')\n",
    "        return\n",
    "    \n",
    "    logging.debug('send=key:'+str(key)+',hold:'+str(hold)+',repeat:'+str(repeat)+',repeat_delay:'+str(repeat_delay)+',state:'+str(state))\n",
    "    for i in range(repeat):\n",
    "        \n",
    "        if state is None or state == 1:\n",
    "            if 'mod' in key:\n",
    "                PressKey(key['mod'])\n",
    "                sleep(KEY_MOD_DELAY)\n",
    "\n",
    "            PressKey(key['key'])\n",
    "\n",
    "        if state is None:\n",
    "            if hold:\n",
    "                sleep(hold)\n",
    "            else:\n",
    "                sleep(KEY_DEFAULT_DELAY)\n",
    "\n",
    "        if state is None or state == 0:\n",
    "            ReleaseKey(key['key'])\n",
    "\n",
    "            if 'mod' in key:\n",
    "                sleep(KEY_MOD_DELAY)\n",
    "                ReleaseKey(key['mod'])\n",
    "        \n",
    "        if repeat_delay:\n",
    "            sleep(repeat_delay)\n",
    "        else:\n",
    "            sleep(KEY_REPEAT_DELAY)"
   ]
  },
  {
   "cell_type": "code",
   "execution_count": 195,
   "metadata": {},
   "outputs": [],
   "source": [
    "# sleep(3)\n",
    "# send(keys['UIFocus'], state=1)"
   ]
  },
  {
   "cell_type": "markdown",
   "metadata": {},
   "source": [
    "### Clear input"
   ]
  },
  {
   "cell_type": "code",
   "execution_count": 196,
   "metadata": {},
   "outputs": [],
   "source": [
    "def clear_input(to_clear=None):\n",
    "    logging.info('\\n'+200*'-'+'\\n'+'---- CLEAR INPUT '+183*'-'+'\\n'+200*'-')\n",
    "    for key in to_clear.keys():\n",
    "        if key in keys:\n",
    "            send(to_clear[key], state=0)\n",
    "    logging.debug('clear_input')"
   ]
  },
  {
   "cell_type": "code",
   "execution_count": 197,
   "metadata": {},
   "outputs": [],
   "source": [
    "# clear_input(keys)"
   ]
  },
  {
   "cell_type": "markdown",
   "metadata": {},
   "source": [
    "## Autopilot UI"
   ]
  },
  {
   "cell_type": "markdown",
   "metadata": {},
   "source": [
    "### Tkinter test"
   ]
  },
  {
   "cell_type": "code",
   "execution_count": 198,
   "metadata": {},
   "outputs": [],
   "source": [
    "# import tkinter as tk\n",
    "# from tkinter import messagebox\n",
    "\n",
    "# root = tk.Tk()\n",
    "# root.title(\"EDAutopilot\")\n",
    "# root.overrideredirect(True)\n",
    "\n",
    "# label = tk.Label(root, text=\"Hello World\")\n",
    "# label.config(bg='lightgreen', font=('times', 24, 'italic'))\n",
    "# label.pack(side=\"top\", fill=\"both\", expand=True, padx=20, pady=20)\n",
    "\n",
    "# button = tk.Button(root, text=\"OK\", command=lambda: root.destroy())\n",
    "# button.pack(side=\"bottom\", fill=\"none\", expand=True)\n",
    "\n",
    "# root.mainloop()"
   ]
  },
  {
   "cell_type": "markdown",
   "metadata": {},
   "source": [
    "## OpenCV"
   ]
  },
  {
   "cell_type": "markdown",
   "metadata": {},
   "source": [
    "### Get screen"
   ]
  },
  {
   "cell_type": "code",
   "execution_count": 199,
   "metadata": {},
   "outputs": [],
   "source": [
    "def get_screen(x_left, y_top, x_right, y_bot):\n",
    "    screen = array(ImageGrab.grab(bbox=(x_left, y_top, x_right, y_bot)))\n",
    "    screen = cv2.cvtColor(screen, cv2.COLOR_RGB2BGR)\n",
    "    return screen\n",
    "    "
   ]
  },
  {
   "cell_type": "markdown",
   "metadata": {},
   "source": [
    "### HSV slider tool"
   ]
  },
  {
   "cell_type": "code",
   "execution_count": 200,
   "metadata": {},
   "outputs": [],
   "source": [
    "def callback(x):\n",
    "    pass\n",
    "\n",
    "def hsv_slider(bandw=False):\n",
    "    cv2.namedWindow('image')\n",
    "\n",
    "    ilowH = 0\n",
    "    ihighH = 179\n",
    "\n",
    "    ilowS = 0\n",
    "    ihighS = 255\n",
    "    ilowV = 0\n",
    "    ihighV = 255\n",
    "\n",
    "    # create trackbars for color change\n",
    "    cv2.createTrackbar('lowH','image',ilowH,179,callback)\n",
    "    cv2.createTrackbar('highH','image',ihighH,179,callback)\n",
    "\n",
    "    cv2.createTrackbar('lowS','image',ilowS,255,callback)\n",
    "    cv2.createTrackbar('highS','image',ihighS,255,callback)\n",
    "\n",
    "    cv2.createTrackbar('lowV','image',ilowV,255,callback)\n",
    "    cv2.createTrackbar('highV','image',ihighV,255,callback)\n",
    "\n",
    "    while(True):\n",
    "        # grab the frame\n",
    "        frame = get_screen((5/16)*SCREEN_WIDTH, (5/8)*SCREEN_HEIGHT,(2/4)*SCREEN_WIDTH, (15/16)*SCREEN_HEIGHT)\n",
    "        if bandw:\n",
    "            frame = equalize(frame)\n",
    "            frame = cv2.cvtColor(frame, cv2.COLOR_GRAY2BGR)\n",
    "\n",
    "        # get trackbar positions\n",
    "        ilowH = cv2.getTrackbarPos('lowH', 'image')\n",
    "        ihighH = cv2.getTrackbarPos('highH', 'image')\n",
    "        ilowS = cv2.getTrackbarPos('lowS', 'image')\n",
    "        ihighS = cv2.getTrackbarPos('highS', 'image')\n",
    "        ilowV = cv2.getTrackbarPos('lowV', 'image')\n",
    "        ihighV = cv2.getTrackbarPos('highV', 'image')\n",
    "\n",
    "        hsv = cv2.cvtColor(frame, cv2.COLOR_BGR2HSV)\n",
    "        lower_hsv = array([ilowH, ilowS, ilowV])\n",
    "        higher_hsv = array([ihighH, ihighS, ihighV])\n",
    "        mask = cv2.inRange(hsv, lower_hsv, higher_hsv)\n",
    "\n",
    "        frame = cv2.bitwise_and(frame, frame, mask=mask)\n",
    "\n",
    "        # show thresholded image\n",
    "        cv2.imshow('image', frame)\n",
    "\n",
    "        if cv2.waitKey(25) & 0xFF == ord('q'):\n",
    "            cv2.destroyAllWindows()\n",
    "            break"
   ]
  },
  {
   "cell_type": "code",
   "execution_count": 201,
   "metadata": {},
   "outputs": [],
   "source": [
    "# hsv_slider()"
   ]
  },
  {
   "cell_type": "markdown",
   "metadata": {},
   "source": [
    "### Equalization"
   ]
  },
  {
   "cell_type": "code",
   "execution_count": 202,
   "metadata": {},
   "outputs": [],
   "source": [
    "def equalize(image=None, testing=False):\n",
    "    while True:\n",
    "        if testing:\n",
    "            img = get_screen((5/16)*SCREEN_WIDTH, (5/8)*SCREEN_HEIGHT,(2/4)*SCREEN_WIDTH, (15/16)*SCREEN_HEIGHT)\n",
    "        else:\n",
    "            img = image.copy()\n",
    "        # Load the image in greyscale\n",
    "        img_gray = cv2.cvtColor(img, cv2.COLOR_BGR2GRAY)\n",
    "        # create a CLAHE object (Arguments are optional).\n",
    "        clahe = cv2.createCLAHE(clipLimit=2.0, tileGridSize=(8,8))\n",
    "        img_out = clahe.apply(img_gray)\n",
    "        if testing:\n",
    "            cv2.imshow('Equalized', img_out)\n",
    "            if cv2.waitKey(25) & 0xFF == ord('q'):\n",
    "                cv2.destroyAllWindows()\n",
    "                break\n",
    "        else:\n",
    "            break\n",
    "    return img_out"
   ]
  },
  {
   "cell_type": "code",
   "execution_count": 203,
   "metadata": {},
   "outputs": [],
   "source": [
    "# equalize(testing=True)"
   ]
  },
  {
   "cell_type": "markdown",
   "metadata": {},
   "source": [
    "### Filter bright"
   ]
  },
  {
   "cell_type": "code",
   "execution_count": 204,
   "metadata": {},
   "outputs": [],
   "source": [
    "def filter_bright(image=None, testing=False):\n",
    "    while True:\n",
    "        if testing:\n",
    "            img = get_screen((5/16)*SCREEN_WIDTH, (5/8)*SCREEN_HEIGHT,(2/4)*SCREEN_WIDTH, (15/16)*SCREEN_HEIGHT)\n",
    "        else:\n",
    "            img = image.copy()\n",
    "        equalized = equalize(img)\n",
    "        equalized = cv2.cvtColor(equalized, cv2.COLOR_GRAY2BGR)\n",
    "        equalized = cv2.cvtColor(equalized, cv2.COLOR_BGR2HSV)\n",
    "        filtered = cv2.inRange(equalized, array([0, 0, 215]), array([0, 0, 255]))\n",
    "        if testing:\n",
    "            cv2.imshow('Filtered', filtered)\n",
    "            if cv2.waitKey(25) & 0xFF == ord('q'):\n",
    "                cv2.destroyAllWindows()\n",
    "                break\n",
    "        else:\n",
    "            break\n",
    "    return filtered"
   ]
  },
  {
   "cell_type": "code",
   "execution_count": 205,
   "metadata": {},
   "outputs": [],
   "source": [
    "# filter_bright(testing=True)"
   ]
  },
  {
   "cell_type": "markdown",
   "metadata": {},
   "source": [
    "### Filter sun"
   ]
  },
  {
   "cell_type": "code",
   "execution_count": 206,
   "metadata": {},
   "outputs": [],
   "source": [
    "def filter_sun(image=None, testing=False):\n",
    "    while True:\n",
    "        if testing:\n",
    "            hsv = get_screen((1/3)*SCREEN_WIDTH, (1/3)*SCREEN_HEIGHT,(2/3)*SCREEN_WIDTH, (2/3)*SCREEN_HEIGHT)\n",
    "        else:\n",
    "            hsv = image.copy()\n",
    "        # converting from BGR to HSV color space\n",
    "        hsv = cv2.cvtColor(hsv, cv2.COLOR_BGR2HSV)\n",
    "        # filter Elite UI orange\n",
    "        filtered = cv2.inRange(hsv, array([0, 100, 240]), array([180, 255, 255]))\n",
    "        if testing:\n",
    "            cv2.imshow('Filtered', filtered)\n",
    "            if cv2.waitKey(25) & 0xFF == ord('q'):\n",
    "                cv2.destroyAllWindows()\n",
    "                break\n",
    "        else:\n",
    "            break\n",
    "    return filtered"
   ]
  },
  {
   "cell_type": "code",
   "execution_count": 207,
   "metadata": {},
   "outputs": [],
   "source": [
    "# filter_sun(testing=True)"
   ]
  },
  {
   "cell_type": "markdown",
   "metadata": {},
   "source": [
    "### Filter orange"
   ]
  },
  {
   "cell_type": "code",
   "execution_count": 208,
   "metadata": {},
   "outputs": [],
   "source": [
    "def filter_orange(image=None, testing=False):\n",
    "    while True:\n",
    "        if testing:\n",
    "            hsv = get_screen((1/3)*SCREEN_WIDTH, (1/3)*SCREEN_HEIGHT,(2/3)*SCREEN_WIDTH, (2/3)*SCREEN_HEIGHT)\n",
    "        else:\n",
    "            hsv = image.copy()\n",
    "        # converting from BGR to HSV color space\n",
    "        hsv = cv2.cvtColor(hsv, cv2.COLOR_BGR2HSV)\n",
    "        # filter Elite UI orange\n",
    "        filtered = cv2.inRange(hsv, array([0, 130, 123]), array([25, 235, 220]))\n",
    "        if testing:\n",
    "            cv2.imshow('Filtered', filtered)\n",
    "            if cv2.waitKey(25) & 0xFF == ord('q'):\n",
    "                cv2.destroyAllWindows()\n",
    "                break\n",
    "        else:\n",
    "            break\n",
    "    return filtered"
   ]
  },
  {
   "cell_type": "code",
   "execution_count": 209,
   "metadata": {},
   "outputs": [],
   "source": [
    "# filter_orange(testing=True)"
   ]
  },
  {
   "cell_type": "markdown",
   "metadata": {},
   "source": [
    "### Filter orange2"
   ]
  },
  {
   "cell_type": "code",
   "execution_count": 210,
   "metadata": {},
   "outputs": [],
   "source": [
    "def filter_orange2(image=None, testing=False):\n",
    "    while True:\n",
    "        if testing:\n",
    "            hsv = get_screen((1/3)*SCREEN_WIDTH, (1/3)*SCREEN_HEIGHT,(2/3)*SCREEN_WIDTH, (2/3)*SCREEN_HEIGHT)\n",
    "        else:\n",
    "            hsv = image.copy()\n",
    "        # converting from BGR to HSV color space\n",
    "        hsv = cv2.cvtColor(hsv, cv2.COLOR_BGR2HSV)\n",
    "        # filter Elite UI orange\n",
    "        filtered = cv2.inRange(hsv, array([15, 220, 220]), array([30, 255, 255]))\n",
    "        if testing:\n",
    "            cv2.imshow('Filtered', filtered)\n",
    "            if cv2.waitKey(25) & 0xFF == ord('q'):\n",
    "                cv2.destroyAllWindows()\n",
    "                break\n",
    "        else:\n",
    "            break\n",
    "    return filtered"
   ]
  },
  {
   "cell_type": "code",
   "execution_count": 211,
   "metadata": {},
   "outputs": [],
   "source": [
    "# filter_orange2(testing=True)"
   ]
  },
  {
   "cell_type": "markdown",
   "metadata": {},
   "source": [
    "### Filter blue"
   ]
  },
  {
   "cell_type": "code",
   "execution_count": 212,
   "metadata": {},
   "outputs": [],
   "source": [
    "def filter_blue(image=None, testing=False):\n",
    "    while True:\n",
    "        if testing:\n",
    "            hsv = get_screen((1/3)*SCREEN_WIDTH, (1/3)*SCREEN_HEIGHT,(2/3)*SCREEN_WIDTH, (2/3)*SCREEN_HEIGHT)\n",
    "        else:\n",
    "            hsv = image.copy()\n",
    "        # converting from BGR to HSV color space\n",
    "        hsv = cv2.cvtColor(hsv, cv2.COLOR_BGR2HSV)\n",
    "        # filter Elite UI orange\n",
    "        filtered = cv2.inRange(hsv, array([0, 0, 200]), array([180, 100, 255]))\n",
    "        if testing:\n",
    "            cv2.imshow('Filtered', filtered)\n",
    "            if cv2.waitKey(25) & 0xFF == ord('q'):\n",
    "                cv2.destroyAllWindows()\n",
    "                break\n",
    "        else:\n",
    "            break\n",
    "    return filtered"
   ]
  },
  {
   "cell_type": "code",
   "execution_count": 213,
   "metadata": {},
   "outputs": [],
   "source": [
    "# filter_blue(testing=True)"
   ]
  },
  {
   "cell_type": "markdown",
   "metadata": {},
   "source": [
    "### Get sun"
   ]
  },
  {
   "cell_type": "code",
   "execution_count": 214,
   "metadata": {},
   "outputs": [],
   "source": [
    "def sun_percent():\n",
    "    screen = get_screen((1/3)*SCREEN_WIDTH, (1/3)*SCREEN_HEIGHT,(2/3)*SCREEN_WIDTH, (2/3)*SCREEN_HEIGHT)\n",
    "    filtered = filter_sun(screen)\n",
    "    total = (1/3)*SCREEN_WIDTH*(1/3)*SCREEN_HEIGHT\n",
    "    white = sum(filtered == 255)\n",
    "    black = sum(filtered != 255)\n",
    "    result = white / black\n",
    "    return result * 100"
   ]
  },
  {
   "cell_type": "code",
   "execution_count": 215,
   "metadata": {},
   "outputs": [],
   "source": [
    "# sleep(3)\n",
    "# sun_percent()"
   ]
  },
  {
   "cell_type": "markdown",
   "metadata": {},
   "source": [
    "### Get compass image"
   ]
  },
  {
   "cell_type": "code",
   "execution_count": 216,
   "metadata": {},
   "outputs": [],
   "source": [
    "def get_compass_image(testing=False):\n",
    "    compass_template = cv2.imread(resource_path(\"templates/compass.png\"), cv2.IMREAD_GRAYSCALE)\n",
    "    compass_width, compass_height = compass_template.shape[::-1]\n",
    "    compass_image = compass_template.copy()\n",
    "    doubt = 10\n",
    "    while True:\n",
    "        screen = get_screen((5/16)*SCREEN_WIDTH, (5/8)*SCREEN_HEIGHT,(2/4)*SCREEN_WIDTH, (15/16)*SCREEN_HEIGHT)\n",
    "#         mask_orange = filter_orange(screen)\n",
    "        equalized = equalize(screen)\n",
    "        match = cv2.matchTemplate(equalized, compass_template, cv2.TM_CCOEFF_NORMED)\n",
    "        threshold = 0.3\n",
    "        loc = where( match >= threshold)\n",
    "        pt = (doubt, doubt)\n",
    "        for point in zip(*loc[::-1]):\n",
    "                pt = point\n",
    "        compass_image = screen[pt[1]-doubt : pt[1]+compass_height+doubt, pt[0]-doubt : pt[0]+compass_width+doubt].copy()\n",
    "        if testing:\n",
    "            cv2.rectangle(screen, pt, (pt[0] + compass_width, pt[1] + compass_height), (0,0,255), 2)\n",
    "            cv2.imshow('Compass Found', screen)\n",
    "            cv2.imshow('Compass Mask', equalized)\n",
    "            cv2.imshow('Compass', compass_image)\n",
    "            if cv2.waitKey(25) & 0xFF == ord('q'):\n",
    "                cv2.destroyAllWindows()\n",
    "                break\n",
    "        else:\n",
    "            break\n",
    "    return compass_image, compass_width+(2*doubt), compass_height+(2*doubt)"
   ]
  },
  {
   "cell_type": "code",
   "execution_count": 217,
   "metadata": {},
   "outputs": [],
   "source": [
    "# get_compass_image(testing=True)"
   ]
  },
  {
   "cell_type": "markdown",
   "metadata": {},
   "source": [
    "### Get navpoint offset"
   ]
  },
  {
   "cell_type": "code",
   "execution_count": 218,
   "metadata": {},
   "outputs": [],
   "source": [
    "same_last_count = 0\n",
    "last_last = {'x': 1, 'y': 100}\n",
    "def get_navpoint_offset(testing=False, last=None):\n",
    "    global same_last_count, last_last\n",
    "    navpoint_template = cv2.imread(resource_path(\"templates/navpoint.png\"), cv2.IMREAD_GRAYSCALE)\n",
    "    navpoint_width, navpoint_height = navpoint_template.shape[::-1]\n",
    "    pt = (0, 0)\n",
    "    while True:\n",
    "        compass_image, compass_width, compass_height = get_compass_image()\n",
    "        mask_blue = filter_blue(compass_image)\n",
    "#         filtered = filter_bright(compass_image)\n",
    "        match = cv2.matchTemplate(mask_blue, navpoint_template, cv2.TM_CCOEFF_NORMED)\n",
    "        threshold = 0.5\n",
    "        loc = where( match >= threshold)\n",
    "        for point in zip(*loc[::-1]):\n",
    "                pt = point\n",
    "        final_x = (pt[0] + ((1/2)*navpoint_width)) - ((1/2)*compass_width)\n",
    "        final_y = ((1/2)*compass_height) - (pt[1] + ((1/2)*navpoint_height))\n",
    "        if testing:\n",
    "            cv2.rectangle(compass_image, pt, (pt[0] + navpoint_width, pt[1] + navpoint_height), (0,0,255), 2)\n",
    "            cv2.imshow('Navpoint Found', compass_image)\n",
    "            cv2.imshow('Navpoint Mask', mask_blue)\n",
    "            if cv2.waitKey(25) & 0xFF == ord('q'):\n",
    "                cv2.destroyAllWindows()\n",
    "                break\n",
    "        else:\n",
    "            break\n",
    "    if pt[0] == 0 and pt[1] == 0:\n",
    "        if last:\n",
    "            if last == last_last:\n",
    "                same_last_count = same_last_count + 1\n",
    "            else:\n",
    "                last_last = last\n",
    "                same_last_count = 0\n",
    "            if same_last_count > 5:\n",
    "                same_last_count = 0\n",
    "                if random() < .9:\n",
    "                    result = {'x': 1, 'y': 100}\n",
    "                else:\n",
    "                    result = {'x': 100, 'y': 1}\n",
    "            else:\n",
    "                result = last\n",
    "        else:\n",
    "            result = None\n",
    "    else:\n",
    "        result = {'x':final_x, 'y':final_y}\n",
    "    logging.debug('get_navpoint_offset='+str(result))\n",
    "    return result"
   ]
  },
  {
   "cell_type": "code",
   "execution_count": 219,
   "metadata": {},
   "outputs": [],
   "source": [
    "# get_navpoint_offset(testing=True)"
   ]
  },
  {
   "cell_type": "markdown",
   "metadata": {},
   "source": [
    "### Get destination offset"
   ]
  },
  {
   "cell_type": "code",
   "execution_count": 220,
   "metadata": {},
   "outputs": [],
   "source": [
    "def get_destination_offset(testing=False):\n",
    "    destination_template = cv2.imread(resource_path(\"templates/destination.png\"), cv2.IMREAD_GRAYSCALE)\n",
    "    destination_width, destination_height = destination_template.shape[::-1]\n",
    "    pt = (0, 0)\n",
    "    width = (1/3)*SCREEN_WIDTH\n",
    "    height = (1/3)*SCREEN_HEIGHT\n",
    "    while True:\n",
    "        screen = get_screen((1/3)*SCREEN_WIDTH, (1/3)*SCREEN_HEIGHT,(2/3)*SCREEN_WIDTH, (2/3)*SCREEN_HEIGHT)\n",
    "        mask_orange = filter_orange2(screen)\n",
    "#         equalized = equalize(screen)\n",
    "        match = cv2.matchTemplate(mask_orange, destination_template, cv2.TM_CCOEFF_NORMED)\n",
    "        threshold = 0.2\n",
    "        loc = where( match >= threshold)\n",
    "        for point in zip(*loc[::-1]):\n",
    "                pt = point\n",
    "        final_x = (pt[0] + ((1/2)*destination_width)) - ((1/2)*width)\n",
    "        final_y = ((1/2)*height) - (pt[1] + ((1/2)*destination_height))\n",
    "        if testing:\n",
    "            cv2.rectangle(screen, pt, (pt[0] + destination_width, pt[1] + destination_height), (0,0,255), 2)\n",
    "            cv2.imshow('Destination Found', screen)\n",
    "            cv2.imshow('Destination Mask', mask_orange)\n",
    "            if cv2.waitKey(25) & 0xFF == ord('q'):\n",
    "                cv2.destroyAllWindows()\n",
    "                break\n",
    "        else:\n",
    "            break\n",
    "    if pt[0] == 0 and pt[1] == 0:\n",
    "        result = None\n",
    "    else:\n",
    "        result = {'x':final_x, 'y':final_y}\n",
    "    logging.debug('get_destination_offset='+str(result))\n",
    "    return result"
   ]
  },
  {
   "cell_type": "code",
   "execution_count": 221,
   "metadata": {},
   "outputs": [],
   "source": [
    "# get_destination_offset(testing=True)"
   ]
  },
  {
   "cell_type": "markdown",
   "metadata": {},
   "source": [
    "## Autopilot routines"
   ]
  },
  {
   "cell_type": "markdown",
   "metadata": {},
   "source": [
    "### Undock"
   ]
  },
  {
   "cell_type": "code",
   "execution_count": 222,
   "metadata": {},
   "outputs": [],
   "source": [
    "def undock():\n",
    "    logging.debug('undock')\n",
    "    if ship()['status'] != \"in_station\":\n",
    "        logging.error('undock=err1')\n",
    "        raise Exception('undock error 1')\n",
    "    send(keys['UI_Back'], repeat=10)\n",
    "    send(keys['HeadLookReset'])\n",
    "    send(keys['UI_Down'], hold=3)\n",
    "    send(keys['UI_Select'])\n",
    "    sleep(1)\n",
    "    if not (ship()['status'] == \"starting_undock\" or ship()['status'] == \"in_undock\"):\n",
    "        logging.error('undock=err2')\n",
    "        raise Exception(\"undock error 2\")\n",
    "    send(keys['HeadLookReset'])\n",
    "    send(keys['SetSpeedZero'], repeat=2)\n",
    "    wait = 120\n",
    "    for i in range(wait):\n",
    "        sleep(1)\n",
    "        if i > wait - 1:\n",
    "            logging.error('undock=err3')\n",
    "            raise Exception('undock error 3')\n",
    "        if ship()['status'] == \"in_space\":\n",
    "            break\n",
    "    logging.debug('undock=complete')\n",
    "    return True"
   ]
  },
  {
   "cell_type": "code",
   "execution_count": 223,
   "metadata": {},
   "outputs": [],
   "source": [
    "# sleep(3)\n",
    "# undock()"
   ]
  },
  {
   "cell_type": "markdown",
   "metadata": {},
   "source": [
    "### Dock"
   ]
  },
  {
   "cell_type": "code",
   "execution_count": 224,
   "metadata": {},
   "outputs": [],
   "source": [
    "def dock():\n",
    "    logging.debug('dock')\n",
    "    if ship()['status'] != \"in_space\":\n",
    "        logging.error('dock=err1')\n",
    "        raise Exception('dock error 1')\n",
    "    tries = 3\n",
    "    for i in range(tries):\n",
    "        send(keys['UI_Back'], repeat=10)\n",
    "        send(keys['HeadLookReset'])\n",
    "        send(keys['UIFocus'], state=1)\n",
    "        send(keys['UI_Left'])\n",
    "        send(keys['UIFocus'], state=0)\n",
    "        send(keys['CycleNextPanel'], repeat=2)\n",
    "        send(keys['UI_Up'], hold=3)\n",
    "        send(keys['UI_Right'])\n",
    "        send(keys['UI_Select'])\n",
    "        sleep(1)\n",
    "        if ship()['status'] == \"starting_dock\" or ship()['status'] == \"in_dock\":\n",
    "            break\n",
    "        if i > tries-1:\n",
    "            logging.error('dock=err2')\n",
    "            raise Exception(\"dock error 2\")\n",
    "    send(keys['UI_Back'])\n",
    "    send(keys['HeadLookReset'])\n",
    "    send(keys['SetSpeedZero'], repeat=2)\n",
    "    wait = 120\n",
    "    for i in range(wait):\n",
    "        sleep(1)\n",
    "        if i > wait-1:\n",
    "            logging.error('dock=err3')\n",
    "            raise Exception('dock error 3')\n",
    "        if ship()['status'] == \"in_station\":\n",
    "            break\n",
    "    send(keys['UI_Up'], hold=3)\n",
    "    send(keys['UI_Down'])\n",
    "    send(keys['UI_Select'])\n",
    "    logging.debug('dock=complete')\n",
    "    return True"
   ]
  },
  {
   "cell_type": "code",
   "execution_count": 225,
   "metadata": {},
   "outputs": [],
   "source": [
    "# sleep(3)\n",
    "# dock()"
   ]
  },
  {
   "cell_type": "markdown",
   "metadata": {},
   "source": [
    "### Align"
   ]
  },
  {
   "cell_type": "code",
   "execution_count": 226,
   "metadata": {},
   "outputs": [],
   "source": [
    "def x_angle(point=None):\n",
    "    if not point:\n",
    "        return None\n",
    "    result = degrees(atan(point['y']/point['x']))\n",
    "    if point['x'] > 0:\n",
    "        return +90 - result\n",
    "    else:\n",
    "        return -90 - result"
   ]
  },
  {
   "cell_type": "code",
   "execution_count": 227,
   "metadata": {},
   "outputs": [],
   "source": [
    "def align():\n",
    "    logging.debug('align')\n",
    "    if not (ship()['status'] == 'in_supercruise' or ship()['status'] == 'in_space'):\n",
    "        logging.error('align=err1')\n",
    "        raise Exception('align error 1')\n",
    "    \n",
    "    logging.debug('align= speed 100')\n",
    "    send(keys['SetSpeed100'])\n",
    "    \n",
    "    logging.debug('align= avoid sun')\n",
    "    while sun_percent() > 5:\n",
    "        send(keys['PitchUpButton'], state=1)\n",
    "    send(keys['PitchUpButton'], state=0)\n",
    "    \n",
    "    logging.debug('align= find navpoint')\n",
    "    off = get_navpoint_offset()\n",
    "    while not off:\n",
    "        send(keys['PitchUpButton'], state=1)\n",
    "        off = get_navpoint_offset()\n",
    "    send(keys['PitchUpButton'], state=0)\n",
    "    \n",
    "    logging.debug('align= crude align')\n",
    "    close = 3\n",
    "    close_a = 18\n",
    "    hold_pitch = 0.350\n",
    "    hold_roll = 0.170\n",
    "    ang = x_angle(off)\n",
    "    while (off['x'] > close and ang > close_a) or \\\n",
    "          (off['x'] < -close and ang < -close_a) or \\\n",
    "          (off['y'] > close) or \\\n",
    "          (off['y'] < -close):\n",
    "\n",
    "        while (off['x'] > close and ang > close_a) or \\\n",
    "              (off['x'] < -close and ang < -close_a):\n",
    "\n",
    "            if off['x'] > close and ang > close:\n",
    "                send(keys['RollRightButton'], hold=hold_roll)\n",
    "            if off['x'] < -close and ang < -close:\n",
    "                send(keys['RollLeftButton'], hold=hold_roll)\n",
    "\n",
    "            if ship()['status'] == 'starting_hyperspace':\n",
    "                return\n",
    "            off = get_navpoint_offset(last=off)\n",
    "            ang = x_angle(off)\n",
    "\n",
    "        ang = x_angle(off)\n",
    "        while (off['y'] > close) or \\\n",
    "              (off['y'] < -close):\n",
    "\n",
    "            if off['y'] > close:\n",
    "                send(keys['PitchUpButton'], hold=hold_pitch)\n",
    "            if off['y'] < -close:\n",
    "                send(keys['PitchDownButton'], hold=hold_pitch)\n",
    "\n",
    "            if ship()['status'] == 'starting_hyperspace':\n",
    "                return\n",
    "            off = get_navpoint_offset(last=off)\n",
    "            ang = x_angle(off)\n",
    "            \n",
    "        off = get_navpoint_offset(last=off)\n",
    "        ang = x_angle(off)\n",
    "\n",
    "    logging.debug('align= fine align')\n",
    "    sleep(0.5)    \n",
    "    close = 50\n",
    "    hold_pitch = 0.200\n",
    "    hold_yaw = 0.400\n",
    "    for i in range(5):\n",
    "        new = get_destination_offset()\n",
    "        if new:\n",
    "            off = new\n",
    "            break\n",
    "        sleep(0.25)\n",
    "    if not off:\n",
    "        return\n",
    "    while (off['x'] > close) or \\\n",
    "          (off['x'] < -close) or \\\n",
    "          (off['y'] > close) or \\\n",
    "          (off['y'] < -close):\n",
    "        \n",
    "        if off['x'] > close:\n",
    "            send(keys['YawRightButton'], hold=hold_yaw)\n",
    "        if off['x'] < -close:\n",
    "            send(keys['YawLeftButton'], hold=hold_yaw)\n",
    "        if off['y'] > close:\n",
    "            send(keys['PitchUpButton'], hold=hold_pitch)\n",
    "        if off['y'] < -close:\n",
    "            send(keys['PitchDownButton'], hold=hold_pitch)\n",
    "            \n",
    "        if ship()['status'] == 'starting_hyperspace':\n",
    "            return\n",
    "        \n",
    "        for i in range(5):\n",
    "            new = get_destination_offset()\n",
    "            if new:\n",
    "                off = new\n",
    "                break\n",
    "            sleep(0.25)\n",
    "        if not off:\n",
    "            return\n",
    "    \n",
    "    logging.debug('align=complete')"
   ]
  },
  {
   "cell_type": "code",
   "execution_count": 228,
   "metadata": {},
   "outputs": [],
   "source": [
    "# sleep(3)\n",
    "# align()"
   ]
  },
  {
   "cell_type": "markdown",
   "metadata": {},
   "source": [
    "### Jump"
   ]
  },
  {
   "cell_type": "code",
   "execution_count": 229,
   "metadata": {},
   "outputs": [],
   "source": [
    "def jump():\n",
    "    logging.debug('jump')\n",
    "    tries = 3\n",
    "    for i in range(tries):\n",
    "        logging.debug('jump= try:'+str(i))\n",
    "        if not (ship()['status'] == 'in_supercruise' or ship()['status'] == 'in_space'):\n",
    "            logging.error('jump=err1')\n",
    "            raise Exception('not ready to jump')\n",
    "        sleep(0.5)\n",
    "        logging.debug('jump= start fsd')\n",
    "        send(keys['HyperSuperCombination'], hold=1)\n",
    "        sleep(16)\n",
    "        if ship()['status'] != 'starting_hyperspace':\n",
    "            logging.debug('jump= misalign stop fsd')\n",
    "            send(keys['HyperSuperCombination'], hold=1)\n",
    "            sleep(2)\n",
    "            align()\n",
    "        else:\n",
    "            logging.debug('jump= in jump')\n",
    "            while ship()['status'] != 'in_supercruise':\n",
    "                sleep(1)\n",
    "            logging.debug('jump= speed 0')\n",
    "            send(keys['SetSpeedZero'])\n",
    "            logging.debug('jump=complete')\n",
    "            return True\n",
    "    logging.error('jump=err2')\n",
    "    raise Exception(\"jump failure\")    "
   ]
  },
  {
   "cell_type": "code",
   "execution_count": 230,
   "metadata": {},
   "outputs": [],
   "source": [
    "# sleep(3)\n",
    "# jump()"
   ]
  },
  {
   "cell_type": "markdown",
   "metadata": {},
   "source": [
    "### Refuel"
   ]
  },
  {
   "cell_type": "code",
   "execution_count": 231,
   "metadata": {},
   "outputs": [],
   "source": [
    "def refuel(refuel_threshold=33):\n",
    "    logging.debug('refuel')\n",
    "    scoopable_stars = ['F', 'O', 'G', 'K', 'B', 'A', 'M']\n",
    "    if ship()['status'] != 'in_supercruise':\n",
    "        logging.error('refuel=err1')\n",
    "        return False\n",
    "        raise Exception('not ready to refuel')\n",
    "        \n",
    "    if ship()['fuel_percent'] < refuel_threshold and ship()['star_class'] in scoopable_stars:\n",
    "        logging.debug('refuel= start refuel')\n",
    "        send(keys['SetSpeed100'])\n",
    "    #     while not ship()['is_scooping']:\n",
    "    #         sleep(1)\n",
    "        sleep(4)\n",
    "        logging.debug('refuel= wait for refuel')\n",
    "        send(keys['SetSpeedZero'], repeat=3)\n",
    "        while not ship()['fuel_percent'] == 100:\n",
    "            sleep(1)\n",
    "        logging.debug('refuel=complete')\n",
    "        return True\n",
    "    elif ship()['fuel_percent'] >= refuel_threshold:\n",
    "        logging.debug('refuel= not needed')\n",
    "        return False\n",
    "    elif ship()['star_class'] not in scoopable_stars:\n",
    "        logging.debug('refuel= needed, unsuitable star')\n",
    "        return False\n",
    "    else:\n",
    "        return False"
   ]
  },
  {
   "cell_type": "code",
   "execution_count": 232,
   "metadata": {},
   "outputs": [],
   "source": [
    "# sleep(3)\n",
    "# refuel()"
   ]
  },
  {
   "cell_type": "markdown",
   "metadata": {},
   "source": [
    "### Discovery scanner"
   ]
  },
  {
   "cell_type": "code",
   "execution_count": 233,
   "metadata": {},
   "outputs": [],
   "source": [
    "scanner = 0\n",
    "\n",
    "def set_scanner(state):\n",
    "    scanner = state\n",
    "    logging.info('set_scanner='+str(state))\n",
    "\n",
    "def get_scanner():\n",
    "    from dev_tray import STATE\n",
    "    return STATE"
   ]
  },
  {
   "cell_type": "markdown",
   "metadata": {},
   "source": [
    "### Position"
   ]
  },
  {
   "cell_type": "code",
   "execution_count": 234,
   "metadata": {},
   "outputs": [],
   "source": [
    "def position(refueled_multiplier=1):\n",
    "    logging.debug('position')\n",
    "    scan = get_scanner()\n",
    "    if scan == 1:\n",
    "        logging.debug('position=scanning')\n",
    "        send(keys['PrimaryFire'], state=1)\n",
    "    elif scan == 2:\n",
    "        logging.debug('position=scanning')\n",
    "        send(keys['SecondaryFire'], state=1)\n",
    "    send(keys['PitchUpButton'], state=1)\n",
    "    sleep(5)\n",
    "    send(keys['PitchUpButton'], state=0)\n",
    "    send(keys['SetSpeed100'])\n",
    "    send(keys['PitchUpButton'], state=1)\n",
    "    while sun_percent() > 3:\n",
    "        sleep(1)\n",
    "    sleep(5)\n",
    "    send(keys['PitchUpButton'], state=0)\n",
    "    sleep(5*refueled_multiplier)\n",
    "    if scan == 1:\n",
    "        logging.debug('position=scanning complete')\n",
    "        send(keys['PrimaryFire'], state=0)\n",
    "    elif scan == 2:\n",
    "        logging.debug('position=scanning complete')\n",
    "        send(keys['SecondaryFire'], state=0)\n",
    "    logging.debug('position=complete')\n",
    "    return True"
   ]
  },
  {
   "cell_type": "code",
   "execution_count": 235,
   "metadata": {},
   "outputs": [],
   "source": [
    "# sleep(3)\n",
    "# position()"
   ]
  },
  {
   "cell_type": "markdown",
   "metadata": {},
   "source": [
    "## Autopilot main"
   ]
  },
  {
   "cell_type": "markdown",
   "metadata": {},
   "source": [
    "### status reference\n",
    "\n",
    "'in-station'\n",
    "\n",
    "'in-supercruise'\n",
    "\n",
    "'in-space'\n",
    "\n",
    "'starting-undocking'\n",
    "\n",
    "'in-undocking'\n",
    "\n",
    "'starting-docking'\n",
    "\n",
    "'in-docking'"
   ]
  },
  {
   "cell_type": "code",
   "execution_count": 236,
   "metadata": {},
   "outputs": [],
   "source": [
    "def autopilot():\n",
    "    logging.info('\\n'+200*'-'+'\\n'+'---- AUTOPILOT START '+179*'-'+'\\n'+200*'-')\n",
    "    logging.info('get_latest_log='+str(get_latest_log(PATH_LOG_FILES)))\n",
    "    logging.debug('ship='+str(ship()))\n",
    "#     if ship()['target']:\n",
    "#         undock()\n",
    "    while ship()['target']:\n",
    "        if ship()['status'] == 'in_space' or ship()['status'] == 'in_supercruise':\n",
    "            logging.info('\\n'+200*'-'+'\\n'+'---- AUTOPILOT ALIGN '+179*'-'+'\\n'+200*'-')\n",
    "            align()\n",
    "            logging.info('\\n'+200*'-'+'\\n'+'---- AUTOPILOT JUMP '+180*'-'+'\\n'+200*'-')\n",
    "            jump()\n",
    "            logging.info('\\n'+200*'-'+'\\n'+'---- AUTOPILOT REFUEL '+178*'-'+'\\n'+200*'-')\n",
    "            refueled = refuel()\n",
    "            logging.info('\\n'+200*'-'+'\\n'+'---- AUTOPILOT POSIT '+179*'-'+'\\n'+200*'-')\n",
    "            if refueled:\n",
    "                position(refueled_multiplier=4)\n",
    "            else:\n",
    "                position(refueled_multiplier=1)\n",
    "    send(keys['SetSpeedZero'])\n",
    "    logging.info('\\n'+200*'-'+'\\n'+'---- AUTOPILOT END '+181*'-'+'\\n'+200*'-')"
   ]
  },
  {
   "cell_type": "code",
   "execution_count": 237,
   "metadata": {},
   "outputs": [],
   "source": [
    "# sleep(3)\n",
    "# autopilot()"
   ]
  }
 ],
 "metadata": {
  "kernelspec": {
   "display_name": "Python 3",
   "language": "python",
   "name": "python3"
  },
  "language_info": {
   "codemirror_mode": {
    "name": "ipython",
    "version": 3
   },
   "file_extension": ".py",
   "mimetype": "text/x-python",
   "name": "python",
   "nbconvert_exporter": "python",
   "pygments_lexer": "ipython3",
   "version": "3.7.3"
  },
  "toc": {
   "base_numbering": 1,
   "nav_menu": {},
   "number_sections": true,
   "sideBar": true,
   "skip_h1_title": false,
   "title_cell": "Elite Dangerous Autopilot v2",
   "title_sidebar": "Index",
   "toc_cell": true,
   "toc_position": {
    "height": "calc(100% - 180px)",
    "left": "10px",
    "top": "150px",
    "width": "225.608px"
   },
   "toc_section_display": true,
   "toc_window_display": true
  }
 },
 "nbformat": 4,
 "nbformat_minor": 2
}
